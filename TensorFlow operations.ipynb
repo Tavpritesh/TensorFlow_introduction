{
 "cells": [
  {
   "cell_type": "markdown",
   "metadata": {},
   "source": [
    "# TensorFlow operations\n",
    "\n",
    "This jupyter notebook contains many cells with basic examples to TensorFlow operations."
   ]
  },
  {
   "cell_type": "code",
   "execution_count": 2,
   "metadata": {
    "collapsed": false
   },
   "outputs": [],
   "source": [
    "import tensorflow as tf"
   ]
  },
  {
   "cell_type": "markdown",
   "metadata": {},
   "source": [
    "Lets first look at [Constants, Sequences, and Random Values](https://www.tensorflow.org/versions/r0.8/api_docs/python/constant_op.html)"
   ]
  },
  {
   "cell_type": "code",
   "execution_count": 2,
   "metadata": {
    "collapsed": false
   },
   "outputs": [],
   "source": [
    "a = tf.zeros((3, 3), dtype=tf.float32, name=None)\n",
    "b = tf.zeros_like(a, dtype=None, name=None)\n",
    "c = tf.ones((2, 2), dtype=tf.float32, name=None)\n",
    "d = tf.ones_like(c, dtype=None, name=None)\n",
    "e = tf.fill((2,1), 3.140, name=None)\n",
    "f = tf.constant([12,2], dtype=tf.int32, name=None)"
   ]
  },
  {
   "cell_type": "code",
   "execution_count": 3,
   "metadata": {
    "collapsed": false
   },
   "outputs": [
    {
     "name": "stdout",
     "output_type": "stream",
     "text": [
      "tf.zeroes\n",
      "[[ 0.  0.  0.]\n",
      " [ 0.  0.  0.]\n",
      " [ 0.  0.  0.]]\n",
      "tf.zeroes_like\n",
      "[[ 0.  0.  0.]\n",
      " [ 0.  0.  0.]\n",
      " [ 0.  0.  0.]]\n",
      "tf.ones\n",
      "[[ 1.  1.]\n",
      " [ 1.  1.]]\n",
      "tf.ones_like\n",
      "[[ 1.  1.]\n",
      " [ 1.  1.]]\n",
      "tf.fill\n",
      "[[ 3.1400001]\n",
      " [ 3.1400001]]\n",
      "tf.constant\n",
      "[12  2]\n"
     ]
    }
   ],
   "source": [
    "sess = tf.Session()\n",
    "with sess.as_default():\n",
    "    print 'tf.zeroes'\n",
    "    print a.eval()\n",
    "    print 'tf.zeroes_like'\n",
    "    print b.eval()\n",
    "    print 'tf.ones'\n",
    "    print c.eval() \n",
    "    print'tf.ones_like'\n",
    "    print d.eval()\n",
    "    print 'tf.fill'\n",
    "    print e.eval()\n",
    "    print 'tf.constant'\n",
    "    print f.eval()\n",
    "sess.close()"
   ]
  },
  {
   "cell_type": "code",
   "execution_count": 4,
   "metadata": {
    "collapsed": false
   },
   "outputs": [
    {
     "name": "stdout",
     "output_type": "stream",
     "text": [
      "[[ 0.  0.  0.]\n",
      " [ 0.  0.  0.]\n",
      " [ 0.  0.  0.]]\n",
      "[[ 0.  0.  0.]\n",
      " [ 0.  0.  0.]\n",
      " [ 0.  0.  0.]]\n",
      "[[ 1.  1.]\n",
      " [ 1.  1.]]\n"
     ]
    }
   ],
   "source": [
    "#another way of printing TensorFlow is like this \n",
    "sess = tf.InteractiveSession()\n",
    "print sess.run(a)\n",
    "print sess.run(b)\n",
    "print sess.run(c)"
   ]
  },
  {
   "cell_type": "code",
   "execution_count": 5,
   "metadata": {
    "collapsed": false
   },
   "outputs": [
    {
     "name": "stdout",
     "output_type": "stream",
     "text": [
      "tf.linspace\n",
      "[  0.           1.11111116   2.22222233   3.33333349   4.44444466\n",
      "   5.55555582   6.66666698   7.77777815   8.88888931  10.        ]\n",
      "[  0.           2.0666666    4.13333321   6.19999981   8.26666641\n",
      "  10.33333302  12.39999962]\n"
     ]
    }
   ],
   "source": [
    "a = tf.linspace(0.0, 10.0, 10, name=\"linspace\")\n",
    "b = tf.linspace(0.0, 12.4, 7, name=\"linspace\")\n",
    "sess = tf.Session()\n",
    "with sess.as_default():\n",
    "    print 'tf.linspace'\n",
    "    print a.eval()\n",
    "    print b.eval()"
   ]
  },
  {
   "cell_type": "code",
   "execution_count": 6,
   "metadata": {
    "collapsed": false
   },
   "outputs": [
    {
     "name": "stdout",
     "output_type": "stream",
     "text": [
      "tf.range\n",
      "[ 4  7 10 13]\n"
     ]
    }
   ],
   "source": [
    "# tf.range is for integers \n",
    "a = tf.range(4, limit=15, delta=3, name='range')\n",
    "with sess.as_default():\n",
    "    print 'tf.range'\n",
    "    print a.eval()"
   ]
  },
  {
   "cell_type": "code",
   "execution_count": 7,
   "metadata": {
    "collapsed": false
   },
   "outputs": [
    {
     "name": "stdout",
     "output_type": "stream",
     "text": [
      "tf.random_normal\n",
      "[[-3.50035119  0.77889049 -8.97565269]\n",
      " [ 1.58909321 -0.27798051 -1.16660023]]\n"
     ]
    }
   ],
   "source": [
    "# Create a tensor of shape [2, 3] consisting of random normal values, with mean\n",
    "# -1 and standard deviation 4.\n",
    "norm = tf.random_normal([2, 3], mean=-1, stddev=4)\n",
    "with sess.as_default():\n",
    "    print 'tf.random_normal'\n",
    "    print norm.eval()"
   ]
  },
  {
   "cell_type": "code",
   "execution_count": 8,
   "metadata": {
    "collapsed": false
   },
   "outputs": [
    {
     "name": "stdout",
     "output_type": "stream",
     "text": [
      "tf.shuffle\n",
      "[[3 4]\n",
      " [5 6]\n",
      " [1 2]]\n",
      "tf.shuffle second time\n",
      "[[5 6]\n",
      " [1 2]\n",
      " [3 4]]\n"
     ]
    }
   ],
   "source": [
    "# Shuffle the first dimension of a tensor\n",
    "c = tf.constant([[1, 2], [3, 4], [5, 6]])\n",
    "shuff = tf.random_shuffle(c)\n",
    "with sess.as_default():\n",
    "    print 'tf.shuffle'\n",
    "    print shuff.eval()\n",
    "    print 'tf.shuffle second time'\n",
    "    print shuff.eval()"
   ]
  },
  {
   "cell_type": "code",
   "execution_count": 9,
   "metadata": {
    "collapsed": false
   },
   "outputs": [
    {
     "name": "stdout",
     "output_type": "stream",
     "text": [
      "[[ 1.35836506  1.67446887 -0.11730157  1.89177263 -0.26672947 -0.09724663]\n",
      " [ 0.57759356  2.3977263  -0.89397496 -0.69276673  0.37279084 -0.07325853]]\n",
      "[[ 0.05119526 -1.6910634   0.42184353  2.23443246 -0.01840109 -3.61234474]\n",
      " [-0.33577418 -0.12074886 -0.87402958  0.20901743  2.40554023  0.97906017]]\n"
     ]
    }
   ],
   "source": [
    "a= tf.random_normal((2,6), mean=0.2, stddev=1.0, seed=None, name='Norm')\n",
    "print sess.run(a)\n",
    "print sess.run(a)"
   ]
  },
  {
   "cell_type": "code",
   "execution_count": 10,
   "metadata": {
    "collapsed": false
   },
   "outputs": [
    {
     "name": "stdout",
     "output_type": "stream",
     "text": [
      "[[ 0.4357354]]\n",
      "[[-0.67853993]]\n",
      "[[ 0.4357354]]\n",
      "[[-0.67853993]]\n"
     ]
    }
   ],
   "source": [
    "tf.set_random_seed(1234)\n",
    "a = tf.random_normal((1,1), mean=0.2, stddev=1.0, name='Norm')\n",
    "with sess.as_default():\n",
    "    print a.eval()\n",
    "    print a.eval()\n",
    "with tf.Session() as sess1:\n",
    "    print a.eval()\n",
    "    print a.eval()"
   ]
  },
  {
   "cell_type": "code",
   "execution_count": 11,
   "metadata": {
    "collapsed": false
   },
   "outputs": [
    {
     "name": "stdout",
     "output_type": "stream",
     "text": [
      "Session 1\n",
      "[ 0.46764243]\n",
      "[ 0.15858293]\n",
      "[ 1.22556162]\n",
      "[-1.55450916]\n",
      "Session 2\n",
      "[ 0.46764243]\n",
      "[ 0.15858293]\n",
      "[ 1.22556162]\n",
      "[-1.55450916]\n"
     ]
    }
   ],
   "source": [
    "tf.set_random_seed(1234)\n",
    "a = tf.random_uniform([1], seed=4321)\n",
    "b = tf.random_normal([1],  seed=4321)\n",
    "\n",
    "# Repeatedly running this block with the same graph will generate different\n",
    "# sequences of 'a' and 'b'.\n",
    "print(\"Session 1\")\n",
    "with tf.Session() as sess1:\n",
    "    print(sess1.run(a))  # generates 'A1'\n",
    "    print(sess1.run(a))  # generates 'A2'\n",
    "    print(sess1.run(b))  # generates 'B1'\n",
    "    print(sess1.run(b))  # generates 'B2'\n",
    "\n",
    "print(\"Session 2\")\n",
    "with tf.Session() as sess2:\n",
    "    print(sess2.run(a))  # generates 'A1'\n",
    "    print(sess2.run(a))  # generates 'A2'\n",
    "    print(sess2.run(b))  # generates 'B1'\n",
    "    print(sess2.run(b))  # generates 'B2'"
   ]
  },
  {
   "cell_type": "code",
   "execution_count": 12,
   "metadata": {
    "collapsed": false
   },
   "outputs": [
    {
     "name": "stdout",
     "output_type": "stream",
     "text": [
      "Session 1\n",
      "[ 0.73822105]\n",
      "[ 0.20240712]\n",
      "[ 0.17799301]\n",
      "[ 0.45085534]\n",
      "Session 2\n",
      "[ 0.73822105]\n",
      "[ 0.20240712]\n",
      "[ 0.17799301]\n",
      "[ 0.45085534]\n"
     ]
    }
   ],
   "source": [
    "#tf.set_random_seed(1234)\n",
    "a = tf.random_uniform([1], seed= 1234)\n",
    "b = tf.random_normal([1])\n",
    "\n",
    "# Repeatedly running this block with the same graph will generate different\n",
    "# sequences of 'a' and 'b'.\n",
    "print(\"Session 1\")\n",
    "with tf.Session() as sess1:\n",
    "    print(sess1.run(a))  # generates 'A1'\n",
    "    print(sess1.run(a))  # generates 'A2'\n",
    "    print(sess1.run(b))  # generates 'B1'\n",
    "    print(sess1.run(b))  # generates 'B2'\n",
    "\n",
    "print(\"Session 2\")\n",
    "with tf.Session() as sess2:\n",
    "    print(sess2.run(a))  # generates 'A1'\n",
    "    print(sess2.run(a))  # generates 'A2'\n",
    "    print(sess2.run(b))  # generates 'B1'\n",
    "    print(sess2.run(b))  # generates 'B2'"
   ]
  },
  {
   "cell_type": "code",
   "execution_count": 5,
   "metadata": {
    "collapsed": false
   },
   "outputs": [
    {
     "name": "stdout",
     "output_type": "stream",
     "text": [
      "Tensor(\"ones_1:0\", shape=(2, 2), dtype=float32)\n"
     ]
    }
   ],
   "source": [
    "a = tf.ones([2,2])\n",
    "print(a)\n"
   ]
  },
  {
   "cell_type": "code",
   "execution_count": 6,
   "metadata": {
    "collapsed": false
   },
   "outputs": [
    {
     "ename": "ValueError",
     "evalue": "Cannot evaluate tensor using eval(): No default session is registered. Use `with sess.as_default()` or pass an explicit session to eval(session=sess)",
     "output_type": "error",
     "traceback": [
      "\u001b[0;31m---------------------------------------------------------------------------\u001b[0m",
      "\u001b[0;31mValueError\u001b[0m                                Traceback (most recent call last)",
      "\u001b[0;32m<ipython-input-6-907f444c5550>\u001b[0m in \u001b[0;36m<module>\u001b[0;34m()\u001b[0m\n\u001b[0;32m----> 1\u001b[0;31m \u001b[0;32mprint\u001b[0m \u001b[0ma\u001b[0m\u001b[0;34m.\u001b[0m\u001b[0meval\u001b[0m\u001b[0;34m(\u001b[0m\u001b[0;34m)\u001b[0m\u001b[0;34m\u001b[0m\u001b[0m\n\u001b[0m",
      "\u001b[0;32m/Users/Christopher_old/anaconda2/lib/python2.7/site-packages/tensorflow/python/framework/ops.pyc\u001b[0m in \u001b[0;36meval\u001b[0;34m(self, feed_dict, session)\u001b[0m\n\u001b[1;32m    500\u001b[0m \u001b[0;34m\u001b[0m\u001b[0m\n\u001b[1;32m    501\u001b[0m     \"\"\"\n\u001b[0;32m--> 502\u001b[0;31m     \u001b[0;32mreturn\u001b[0m \u001b[0m_eval_using_default_session\u001b[0m\u001b[0;34m(\u001b[0m\u001b[0mself\u001b[0m\u001b[0;34m,\u001b[0m \u001b[0mfeed_dict\u001b[0m\u001b[0;34m,\u001b[0m \u001b[0mself\u001b[0m\u001b[0;34m.\u001b[0m\u001b[0mgraph\u001b[0m\u001b[0;34m,\u001b[0m \u001b[0msession\u001b[0m\u001b[0;34m)\u001b[0m\u001b[0;34m\u001b[0m\u001b[0m\n\u001b[0m\u001b[1;32m    503\u001b[0m \u001b[0;34m\u001b[0m\u001b[0m\n\u001b[1;32m    504\u001b[0m \u001b[0;34m\u001b[0m\u001b[0m\n",
      "\u001b[0;32m/Users/Christopher_old/anaconda2/lib/python2.7/site-packages/tensorflow/python/framework/ops.pyc\u001b[0m in \u001b[0;36m_eval_using_default_session\u001b[0;34m(tensors, feed_dict, graph, session)\u001b[0m\n\u001b[1;32m   3318\u001b[0m     \u001b[0msession\u001b[0m \u001b[0;34m=\u001b[0m \u001b[0mget_default_session\u001b[0m\u001b[0;34m(\u001b[0m\u001b[0;34m)\u001b[0m\u001b[0;34m\u001b[0m\u001b[0m\n\u001b[1;32m   3319\u001b[0m     \u001b[0;32mif\u001b[0m \u001b[0msession\u001b[0m \u001b[0;32mis\u001b[0m \u001b[0mNone\u001b[0m\u001b[0;34m:\u001b[0m\u001b[0;34m\u001b[0m\u001b[0m\n\u001b[0;32m-> 3320\u001b[0;31m       raise ValueError(\"Cannot evaluate tensor using eval(): No default \"\n\u001b[0m\u001b[1;32m   3321\u001b[0m                        \u001b[0;34m\"session is registered. Use `with \"\u001b[0m\u001b[0;34m\u001b[0m\u001b[0m\n\u001b[1;32m   3322\u001b[0m                        \u001b[0;34m\"sess.as_default()` or pass an explicit session to \"\u001b[0m\u001b[0;34m\u001b[0m\u001b[0m\n",
      "\u001b[0;31mValueError\u001b[0m: Cannot evaluate tensor using eval(): No default session is registered. Use `with sess.as_default()` or pass an explicit session to eval(session=sess)"
     ]
    }
   ],
   "source": []
  },
  {
   "cell_type": "code",
   "execution_count": null,
   "metadata": {
    "collapsed": true
   },
   "outputs": [],
   "source": []
  }
 ],
 "metadata": {
  "kernelspec": {
   "display_name": "Python 2",
   "language": "python",
   "name": "python2"
  },
  "language_info": {
   "codemirror_mode": {
    "name": "ipython",
    "version": 2
   },
   "file_extension": ".py",
   "mimetype": "text/x-python",
   "name": "python",
   "nbconvert_exporter": "python",
   "pygments_lexer": "ipython2",
   "version": "2.7.11"
  }
 },
 "nbformat": 4,
 "nbformat_minor": 0
}
