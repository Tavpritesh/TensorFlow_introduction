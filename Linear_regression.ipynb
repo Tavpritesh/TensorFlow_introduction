{
 "cells": [
  {
   "cell_type": "markdown",
   "metadata": {},
   "source": [
    "# Linear Regression\n",
    "\n",
    "In this notebook we will use TensorFlow to compute a linear regression\n",
    "In the following code cell we will explore all the mathematical Tensorflow functions that we will\n",
    "need for Linear regression. "
   ]
  },
  {
   "cell_type": "code",
   "execution_count": null,
   "metadata": {
    "collapsed": false
   },
   "outputs": [],
   "source": [
    "%matplotlib inline\n",
    "import tensorflow as tf\n",
    "import matplotlib.pyplot as plt\n",
    "import numpy as np\n",
    "import seaborn as sns"
   ]
  },
  {
   "cell_type": "code",
   "execution_count": null,
   "metadata": {
    "collapsed": false
   },
   "outputs": [],
   "source": [
    "# just some placeholders # \n",
    "a = tf.placeholder(tf.float32)\n",
    "b = tf.placeholder(tf.float32)\n",
    "c = tf.placeholder(tf.float32, shape=[2, 2], name=\"c\")\n",
    "\n",
    "# the matimatical functions # \n",
    "a_plus_b = tf.add(a, b)\n",
    "a_times_b = tf.mul(a, b)\n",
    "square_a =tf.square(a)\n",
    "mean_keep_dim = tf.reduce_mean(c, keep_dims=True)\n",
    "mean = tf.reduce_mean(c, keep_dims=False)\n",
    "mean_axis = tf.reduce_mean(c, keep_dims=False, reduction_indices=0)\n",
    "mean_axis_keep_dim = tf.reduce_mean(c, keep_dims=True, reduction_indices=0)\n",
    "mean_axis_keep_dim_2 = tf.reduce_mean(c, keep_dims=True, reduction_indices=1)\n",
    "\n",
    "# excecute the the graphs # \n",
    "sess = tf.Session()\n",
    "print 'a_plus_b', sess.run(a_plus_b, feed_dict={a: 2.0, b: 3.0})\n",
    "print 'a_times_b',sess.run(a_times_b, feed_dict={a: 2.0, b: 3.0})\n",
    "print 'square_a', sess.run(square_a, feed_dict={a:2.0})\n",
    "print 'mean',  sess.run(mean, feed_dict={c:np.ones((2,2))})\n",
    "print 'mean_keep_dim',  sess.run(mean_keep_dim, feed_dict={c:np.ones((2,2))})\n",
    "print 'mean_axis',  sess.run(mean_axis, feed_dict={c:np.ones((2,2))})\n",
    "print 'mean_axis_keep_dim',  sess.run(mean_axis_keep_dim, feed_dict={c:np.ones((2,2))})\n",
    "print 'mean_axis_keep_dim_2', sess.run(mean_axis_keep_dim_2, feed_dict={c:np.ones((2,2))})\n",
    "sess.close()"
   ]
  },
  {
   "cell_type": "markdown",
   "metadata": {},
   "source": [
    "Make some fake data to perform linear regression on.  "
   ]
  },
  {
   "cell_type": "code",
   "execution_count": null,
   "metadata": {
    "collapsed": false
   },
   "outputs": [],
   "source": [
    "x = np.random.normal(0.0, 1.0, 10000)\n",
    "bias = 3.0\n",
    "slope = 2.0\n",
    "y = bias + slope * (x + np.random.normal(0.0, 0.5, 10000))  \n",
    "sns.regplot(x, y, fit_reg=False)"
   ]
  },
  {
   "cell_type": "code",
   "execution_count": null,
   "metadata": {
    "collapsed": false
   },
   "outputs": [],
   "source": [
    "X = tf.placeholder(tf.float32)\n",
    "Y = tf.placeholder(tf.float32)"
   ]
  },
  {
   "cell_type": "code",
   "execution_count": null,
   "metadata": {
    "collapsed": true
   },
   "outputs": [],
   "source": [
    "W = tf.Variable(tf.random_normal([1]), name='weight')\n",
    "b = tf.Variable(tf.random_normal([1]), name='bias')\n",
    "Y_pred = tf.add(tf.mul(X, W), b)"
   ]
  },
  {
   "cell_type": "markdown",
   "metadata": {},
   "source": [
    "The cost function we want to minimize, mean squared error. "
   ]
  },
  {
   "cell_type": "code",
   "execution_count": null,
   "metadata": {
    "collapsed": true
   },
   "outputs": [],
   "source": [
    "cost = tf.reduce_mean(tf.square(Y_pred - Y))"
   ]
  },
  {
   "cell_type": "code",
   "execution_count": null,
   "metadata": {
    "collapsed": false
   },
   "outputs": [],
   "source": [
    "# use gradien deceent to find the optimal values for W and b \n",
    "learning_rate = 0.01\n",
    "optimizer = tf.train.GradientDescentOptimizer(learning_rate).minimize(cost)"
   ]
  },
  {
   "cell_type": "code",
   "execution_count": null,
   "metadata": {
    "collapsed": true
   },
   "outputs": [],
   "source": [
    "init = tf.initialize_all_variables()\n",
    "sess = tf.Session()\n",
    "sess.run(init)"
   ]
  },
  {
   "cell_type": "code",
   "execution_count": null,
   "metadata": {
    "collapsed": false
   },
   "outputs": [],
   "source": [
    "NEPOCH = 300\n",
    "for i in range(NEPOCH):\n",
    "    sess.run(optimizer, feed_dict={X: x, Y: y})\n",
    "print sess.run(W), sess.run(b)\n",
    "print slope, bias "
   ]
  }
 ],
 "metadata": {
  "kernelspec": {
   "display_name": "Python 2",
   "language": "python",
   "name": "python2"
  },
  "language_info": {
   "codemirror_mode": {
    "name": "ipython",
    "version": 2
   },
   "file_extension": ".py",
   "mimetype": "text/x-python",
   "name": "python",
   "nbconvert_exporter": "python",
   "pygments_lexer": "ipython2",
   "version": "2.7.11"
  }
 },
 "nbformat": 4,
 "nbformat_minor": 0
}
