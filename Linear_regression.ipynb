{
 "cells": [
  {
   "cell_type": "code",
   "execution_count": 1,
   "metadata": {
    "collapsed": false
   },
   "outputs": [
    {
     "name": "stderr",
     "output_type": "stream",
     "text": [
      "/Users/Christopher_old/anaconda2/lib/python2.7/site-packages/matplotlib/font_manager.py:273: UserWarning: Matplotlib is building the font cache using fc-list. This may take a moment.\n",
      "  warnings.warn('Matplotlib is building the font cache using fc-list. This may take a moment.')\n"
     ]
    }
   ],
   "source": [
    "%matplotlib inline\n",
    "import tensorflow as tf\n",
    "import matplotlib.pyplot as plt\n",
    "import numpy as np"
   ]
  },
  {
   "cell_type": "markdown",
   "metadata": {},
   "source": [
    "In this notebook we will use TensorFlow to compute a linear regression\n",
    "In the following code cell we will explore all the mathematical Tensorflow functions that we will\n",
    "need for Linear regression. "
   ]
  },
  {
   "cell_type": "code",
   "execution_count": 2,
   "metadata": {
    "collapsed": false
   },
   "outputs": [
    {
     "name": "stdout",
     "output_type": "stream",
     "text": [
      "a_plus_b 5.0\n",
      "a_times_b 6.0\n",
      "square_a 4.0\n",
      "mean 1.0\n",
      "mean_keep_dim [[ 1.]]\n",
      "mean_axis [ 1.  1.]\n",
      "mean_axis_keep_dim [[ 1.  1.]]\n",
      "mean_axis_keep_dim_2 [[ 1.]\n",
      " [ 1.]]\n"
     ]
    }
   ],
   "source": [
    "# just some placeholders # \n",
    "a = tf.placeholder(tf.float32)\n",
    "b = tf.placeholder(tf.float32)\n",
    "c = tf.placeholder(tf.float32, shape=[2, 2], name=\"c\")\n",
    "\n",
    "# the matimatical functions # \n",
    "a_plus_b = tf.add(a, b)\n",
    "a_times_b = tf.mul(a, b)\n",
    "square_a =tf.square(a)\n",
    "mean_keep_dim = tf.reduce_mean(c, keep_dims=True)\n",
    "mean = tf.reduce_mean(c, keep_dims=False)\n",
    "mean_axis = tf.reduce_mean(c, keep_dims=False, reduction_indices=0)\n",
    "mean_axis_keep_dim = tf.reduce_mean(c, keep_dims=True, reduction_indices=0)\n",
    "mean_axis_keep_dim_2 = tf.reduce_mean(c, keep_dims=True, reduction_indices=1)\n",
    "\n",
    "# excecute the the graphs # \n",
    "sess = tf.Session()\n",
    "print 'a_plus_b', sess.run(a_plus_b, feed_dict={a: 2.0, b: 3.0})\n",
    "print 'a_times_b',sess.run(a_times_b, feed_dict={a: 2.0, b: 3.0})\n",
    "print 'square_a', sess.run(square_a, feed_dict={a:2.0})\n",
    "print 'mean',  sess.run(mean, feed_dict={c:np.ones((2,2))})\n",
    "print 'mean_keep_dim',  sess.run(mean_keep_dim, feed_dict={c:np.ones((2,2))})\n",
    "print 'mean_axis',  sess.run(mean_axis, feed_dict={c:np.ones((2,2))})\n",
    "print 'mean_axis_keep_dim',  sess.run(mean_axis_keep_dim, feed_dict={c:np.ones((2,2))})\n",
    "print 'mean_axis_keep_dim_2', sess.run(mean_axis_keep_dim_2, feed_dict={c:np.ones((2,2))})\n",
    "sess.close()"
   ]
  },
  {
   "cell_type": "markdown",
   "metadata": {},
   "source": [
    "Make some fake data to perform linear regression on.  "
   ]
  },
  {
   "cell_type": "code",
   "execution_count": 10,
   "metadata": {
    "collapsed": false
   },
   "outputs": [
    {
     "data": {
      "text/plain": [
       "<matplotlib.collections.PathCollection at 0x10d346990>"
      ]
     },
     "execution_count": 10,
     "metadata": {},
     "output_type": "execute_result"
    },
    {
     "data": {
      "image/png": "[encoded data removed]",
      "text/plain": [
       "<matplotlib.figure.Figure at 0x103f10450>"
      ]
     },
     "metadata": {},
     "output_type": "display_data"
    }
   ],
   "source": [
    "x = np.random.normal(0.0, 1.0, 10000)\n",
    "bias = 3.0\n",
    "slope = 2.0\n",
    "y = bias + slope * (x + np.random.normal(0.0, 0.5, 10000))  \n",
    "plt.scatter(x, y)"
   ]
  },
  {
   "cell_type": "code",
   "execution_count": 11,
   "metadata": {
    "collapsed": false
   },
   "outputs": [],
   "source": [
    "X = tf.placeholder(tf.float32)\n",
    "Y = tf.placeholder(tf.float32)"
   ]
  },
  {
   "cell_type": "code",
   "execution_count": 12,
   "metadata": {
    "collapsed": true
   },
   "outputs": [],
   "source": [
    "W = tf.Variable(tf.random_normal([1]), name='weight')\n",
    "b = tf.Variable(tf.random_normal([1]), name='bias')\n",
    "Y_pred = tf.add(tf.mul(X, W), b)"
   ]
  },
  {
   "cell_type": "markdown",
   "metadata": {},
   "source": [
    "The cost function we want to minimize, mean squared error. "
   ]
  },
  {
   "cell_type": "code",
   "execution_count": 13,
   "metadata": {
    "collapsed": true
   },
   "outputs": [],
   "source": [
    "cost = tf.reduce_mean(tf.square(Y_pred - Y))"
   ]
  },
  {
   "cell_type": "code",
   "execution_count": 14,
   "metadata": {
    "collapsed": false
   },
   "outputs": [],
   "source": [
    "# use gradien deceent to find the optimal values for W and b \n",
    "learning_rate = 0.01\n",
    "optimizer = tf.train.GradientDescentOptimizer(learning_rate).minimize(cost)"
   ]
  },
  {
   "cell_type": "code",
   "execution_count": 15,
   "metadata": {
    "collapsed": true
   },
   "outputs": [],
   "source": [
    "init = tf.initialize_all_variables()\n",
    "sess = tf.Session()\n",
    "sess.run(init)"
   ]
  },
  {
   "cell_type": "code",
   "execution_count": 16,
   "metadata": {
    "collapsed": false
   },
   "outputs": [
    {
     "name": "stdout",
     "output_type": "stream",
     "text": [
      "[ 1.9660995] [ 2.99076056]\n",
      "2.0 3.0\n"
     ]
    }
   ],
   "source": [
    "NEPOCH = 300\n",
    "for i in range(NEPOCH):\n",
    "    sess.run(optimizer, feed_dict={X: x, Y: y})\n",
    "print sess.run(W), sess.run(b)\n",
    "print slope, bias "
   ]
  },
  {
   "cell_type": "code",
   "execution_count": null,
   "metadata": {
    "collapsed": true
   },
   "outputs": [],
   "source": []
  }
 ],
 "metadata": {
  "kernelspec": {
   "display_name": "Python 2",
   "language": "python",
   "name": "python2"
  },
  "language_info": {
   "codemirror_mode": {
    "name": "ipython",
    "version": 2
   },
   "file_extension": ".py",
   "mimetype": "text/x-python",
   "name": "python",
   "nbconvert_exporter": "python",
   "pygments_lexer": "ipython2",
   "version": "2.7.11"
  }
 },
 "nbformat": 4,
 "nbformat_minor": 0
}
